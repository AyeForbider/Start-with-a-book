{
 "metadata": {
  "language_info": {
   "codemirror_mode": {
    "name": "ipython",
    "version": 3
   },
   "file_extension": ".py",
   "mimetype": "text/x-python",
   "name": "python",
   "nbconvert_exporter": "python",
   "pygments_lexer": "ipython3",
   "version": 3
  },
  "orig_nbformat": 2,
  "kernelspec": {
   "name": "python_defaultSpec_1596165158707",
   "display_name": "Python 3.8.3 32-bit"
  }
 },
 "nbformat": 4,
 "nbformat_minor": 2,
 "cells": [
  {
   "cell_type": "markdown",
   "metadata": {},
   "source": [
    "# Linear SVM"
   ]
  },
  {
   "cell_type": "code",
   "execution_count": 1,
   "metadata": {},
   "outputs": [],
   "source": [
    "import numpy as np\n",
    "from sklearn import datasets\n",
    "from sklearn.preprocessing import StandardScaler\n",
    "from sklearn.svm import LinearSVC\n",
    "from sklearn.pipeline import Pipeline "
   ]
  },
  {
   "cell_type": "code",
   "execution_count": 2,
   "metadata": {},
   "outputs": [
    {
     "output_type": "execute_result",
     "data": {
      "text/plain": "Pipeline(steps=[('scale', StandardScaler()),\n                ('line_svc', LinearSVC(C=1, loss='hinge'))])"
     },
     "metadata": {},
     "execution_count": 2
    }
   ],
   "source": [
    "iris = datasets.load_iris()\n",
    "x = iris['data'][:, (2, 3)]\n",
    "y = (iris['target'] ==2).astype(np.float64)\n",
    "svm_pip = Pipeline([('scale', StandardScaler()), ('line_svc', LinearSVC(C=1, loss='hinge'))])\n",
    "svm_pip.fit(x, y)"
   ]
  },
  {
   "cell_type": "code",
   "execution_count": 3,
   "metadata": {},
   "outputs": [
    {
     "output_type": "execute_result",
     "data": {
      "text/plain": "array([1.])"
     },
     "metadata": {},
     "execution_count": 3
    }
   ],
   "source": [
    "svm_pip.predict([[5.5, 1.7]])"
   ]
  },
  {
   "cell_type": "markdown",
   "metadata": {},
   "source": [
    "# NoLinear SVM"
   ]
  },
  {
   "cell_type": "code",
   "execution_count": 4,
   "metadata": {},
   "outputs": [
    {
     "output_type": "execute_result",
     "data": {
      "text/plain": "(array([[ 2.38554042e-01, -1.48228395e-01],\n        [-5.72116660e-01,  8.20172255e-01],\n        [ 1.40478334e+00, -4.14412623e-01],\n        [ 7.18349350e-01,  6.95682551e-01],\n        [ 1.84408430e-02,  3.08841371e-01],\n        [ 1.57211666e+00, -3.20172255e-01],\n        [-5.18392568e-01,  8.55142763e-01],\n        [ 7.77479066e-01, -4.74927912e-01],\n        [ 1.09602303e+00, -4.95379113e-01],\n        [-1.59599895e-01,  9.87181783e-01],\n        [ 3.45365054e-01,  9.38468422e-01],\n        [-8.01413622e-01,  5.98110530e-01],\n        [ 4.62538290e-01,  8.86599306e-01],\n        [ 5.72116660e-01,  8.20172255e-01],\n        [ 1.92691676e+00,  1.24732995e-01],\n        [-7.18349350e-01,  6.95682551e-01],\n        [ 1.71834935e+00, -1.95682551e-01],\n        [-2.84527587e-01,  9.58667853e-01],\n        [ 6.54634946e-01, -4.38468422e-01],\n        [-8.71318704e-01,  4.90717552e-01],\n        [ 8.20998618e-03,  3.72122838e-01],\n        [ 1.76144596e+00, -1.48228395e-01],\n        [ 1.94905575e+00,  1.84891782e-01],\n        [-9.81559157e-01,  1.91158629e-01],\n        [ 1.34536505e+00, -4.38468422e-01],\n        [ 2.84527587e-01,  9.58667853e-01],\n        [ 9.26916757e-01,  3.75267005e-01],\n        [ 9.03976974e-01, -4.95379113e-01],\n        [ 5.95216657e-01, -4.14412623e-01],\n        [ 3.27699110e-01, -2.40277997e-01],\n        [ 8.71318704e-01,  4.90717552e-01],\n        [ 1.90096887e+00,  6.61162609e-02],\n        [ 9.90311321e-02,  6.61162609e-02],\n        [ 2.05460725e-03,  4.35929780e-01],\n        [ 1.03205158e+00, -4.99486216e-01],\n        [ 6.23489802e-01,  7.81831482e-01],\n        [ 0.00000000e+00,  5.00000000e-01],\n        [ 1.15959990e+00, -4.87181783e-01],\n        [ 9.81559157e-01,  1.91158629e-01],\n        [ 9.60230259e-02,  9.95379113e-01],\n        [ 1.99179001e+00,  3.72122838e-01],\n        [ 7.61445958e-01,  6.48228395e-01],\n        [ 1.62348980e+00, -2.81831482e-01],\n        [-6.23489802e-01,  7.81831482e-01],\n        [ 9.00968868e-01,  4.33883739e-01],\n        [ 9.67948422e-01, -4.99486216e-01],\n        [ 1.83808810e+00, -4.55349012e-02],\n        [-3.20515776e-02,  9.99486216e-01],\n        [ 5.18392568e-01,  8.55142763e-01],\n        [-3.45365054e-01,  9.38468422e-01],\n        [ 8.40400105e-01, -4.87181783e-01],\n        [-4.62538290e-01,  8.86599306e-01],\n        [-4.04783343e-01,  9.14412623e-01],\n        [ 9.49055747e-01,  3.15108218e-01],\n        [ 7.15472413e-01, -4.58667853e-01],\n        [-9.91790014e-01,  1.27877162e-01],\n        [ 2.22520934e-01,  9.74927912e-01],\n        [ 4.81607432e-01, -3.55142763e-01],\n        [ 3.20515776e-02,  9.99486216e-01],\n        [-9.49055747e-01,  3.15108218e-01],\n        [ 3.27051370e-02,  2.46345416e-01],\n        [-9.00968868e-01,  4.33883739e-01],\n        [ 1.51839257e+00, -3.55142763e-01],\n        [-2.22520934e-01,  9.74927912e-01],\n        [-7.61445958e-01,  6.48228395e-01],\n        [-9.67294863e-01,  2.53654584e-01],\n        [ 1.98586378e-01, -9.81105305e-02],\n        [ 1.22252093e+00, -4.74927912e-01],\n        [ 9.67294863e-01,  2.53654584e-01],\n        [-9.26916757e-01,  3.75267005e-01],\n        [ 1.98155916e+00,  3.08841371e-01],\n        [ 1.28681296e-01,  9.28244800e-03],\n        [ 8.01413622e-01,  5.98110530e-01],\n        [ 1.80141362e+00, -9.81105305e-02],\n        [-1.00000000e+00,  1.22464680e-16],\n        [ 7.30832427e-02,  1.24732995e-01],\n        [ 1.67230089e+00, -2.40277997e-01],\n        [ 4.27883340e-01, -3.20172255e-01],\n        [ 9.91790014e-01,  1.27877162e-01],\n        [ 1.00000000e+00,  0.00000000e+00],\n        [ 5.37461710e-01, -3.86599306e-01],\n        [ 1.46253829e+00, -3.86599306e-01],\n        [ 1.59599895e-01,  9.87181783e-01],\n        [-9.97945393e-01,  6.40702200e-02],\n        [ 2.00000000e+00,  5.00000000e-01],\n        [ 1.96729486e+00,  2.46345416e-01],\n        [ 2.81650650e-01, -1.95682551e-01],\n        [ 9.97945393e-01,  6.40702200e-02],\n        [ 3.76510198e-01, -2.81831482e-01],\n        [ 1.99794539e+00,  4.35929780e-01],\n        [ 4.04783343e-01,  9.14412623e-01],\n        [-8.38088105e-01,  5.45534901e-01],\n        [-9.60230259e-02,  9.95379113e-01],\n        [ 1.87131870e+00,  9.28244800e-03],\n        [ 8.38088105e-01,  5.45534901e-01],\n        [ 1.61911895e-01, -4.55349012e-02],\n        [ 5.09442530e-02,  1.84891782e-01],\n        [ 6.72300890e-01,  7.40277997e-01],\n        [-6.72300890e-01,  7.40277997e-01],\n        [ 1.28452759e+00, -4.58667853e-01]]),\n array([1, 0, 1, 0, 1, 1, 0, 1, 1, 0, 0, 0, 0, 0, 1, 0, 1, 0, 1, 0, 1, 1,\n        1, 0, 1, 0, 0, 1, 1, 1, 0, 1, 1, 1, 1, 0, 1, 1, 0, 0, 1, 0, 1, 0,\n        0, 1, 1, 0, 0, 0, 1, 0, 0, 0, 1, 0, 0, 1, 0, 0, 1, 0, 1, 0, 0, 0,\n        1, 1, 0, 0, 1, 1, 0, 1, 0, 1, 1, 1, 0, 0, 1, 1, 0, 0, 1, 1, 1, 0,\n        1, 1, 0, 0, 0, 1, 0, 1, 1, 0, 0, 1], dtype=int32))"
     },
     "metadata": {},
     "execution_count": 4
    }
   ],
   "source": [
    "from sklearn.datasets import make_moons\n",
    "moon = make_moons()\n",
    "moon"
   ]
  },
  {
   "cell_type": "code",
   "execution_count": 5,
   "metadata": {},
   "outputs": [
    {
     "output_type": "execute_result",
     "data": {
      "text/plain": "tuple"
     },
     "metadata": {},
     "execution_count": 5
    }
   ],
   "source": [
    "type(moon)"
   ]
  },
  {
   "cell_type": "code",
   "execution_count": 6,
   "metadata": {},
   "outputs": [],
   "source": [
    "x_moon = moon[0]\n",
    "y_moon = moon[1]"
   ]
  },
  {
   "cell_type": "code",
   "execution_count": 10,
   "metadata": {},
   "outputs": [
    {
     "output_type": "execute_result",
     "data": {
      "text/plain": "Pipeline(steps=[('ploy_features', PolynomialFeatures(degree=10)),\n                ('scaler', StandardScaler()),\n                ('linear_svc', LinearSVC(C=1, loss='hinge'))])"
     },
     "metadata": {},
     "execution_count": 10
    }
   ],
   "source": [
    "from sklearn.preprocessing import PolynomialFeatures\n",
    "poly_svm_clf = Pipeline([('ploy_features', PolynomialFeatures(degree=10)), ('scaler', StandardScaler()), ('linear_svc', LinearSVC(C=1, loss='hinge'))])\n",
    "poly_svm_clf.fit(x, y)"
   ]
  },
  {
   "cell_type": "code",
   "execution_count": null,
   "metadata": {},
   "outputs": [],
   "source": [
    "import matplotlib.pyplot as plt\n"
   ]
  }
 ]
}